{
 "cells": [
  {
   "cell_type": "code",
   "execution_count": 2,
   "metadata": {},
   "outputs": [],
   "source": [
    "import thinkplot\n",
    "import thinkstats2\n",
    "import pandas as pd\n",
    "import numpy as np\n",
    "import scipy\n",
    "import seaborn as sns\n",
    "from matplotlib import pyplot as plt"
   ]
  },
  {
   "cell_type": "markdown",
   "metadata": {},
   "source": [
    "# Assignment #1 - Basic Data Exploration in Python\n",
    "\n",
    "## Assignment Overview\n",
    "\n",
    "In this assignment you'll load some data into a python notebook, and use some basic functions to do some basic analysis. Each section asks you to either calculate some answers or explore some information found in the data. When generating your answers, try to think about a few factors that can make your code better:\n",
    "<ul>\n",
    "<li> Present the answers clearly. Use the markdown cells, code comments, and formatting to help make your answers readable. One of the features of notebooks is that they allow us to combine code and commentary, and we need to ensure both are readable. Refer to the guide in the guides folder of the exercises workbook for an explaination and examples of different formatting. \n",
    "<li> Make your code clear. It is easy to make sense of small pieces of code, for short periods of time, so if your code makes little sense here, it won't really hurt your ability to find the answers. If you need to come back to it later, or others need to edit it, having code that doesn't make sense is a big issue. Use things like clearly named variables, comments, and spacing to make things readable. Even in this course, if you are looking back to something from 2 months ago for the project, it is far easier to understand code that is cleaned up a little. \n",
    "<li> Structure the code well. If there is some kind of repetitive task, it should likely be moved into a function. If there is something that happens several times, it should be in a loop. Having well structured code makes it easy to reuse stuff later, understand how things work, debug errors, and share code with others. This is something to keep in the back of your minds, right now you may not have much experience to lean on to judge how things should be, as you read, adjust, and write code it will become more clear. \n",
    "</ul>\n",
    "\n",
    "## Peer Evaluation\n",
    "\n",
    "This assignemnt will have a peer evaluation for the grade - you'll each read some other notebooks and evaluate their answers. The reason for this is not (entirely) my personal laziness, we are hoping to accomplish a couple of things:\n",
    "<ul>\n",
    "<li> Quick experience reading notebooks. One of the important skills we need to have is the ability to read examples that we find and adapting it to our scenario. This is practice with data you're now comfortable with.\n",
    "<li> Critically evaluating what makes sense in a data notebook. You know how you attempted to explain your look at the data, how did other people do it? What was better? What was worse?\n",
    "<li> Design is subjective. This will give you a set of opinions that are not mine. You will end up with plenty of feedback of what I think, feadback of others early-on should hopefully help you make things appealing to all and not tailored to me. \n",
    "</ul>\n",
    "Doing this right up front will hopefully help kickstart some of that expericence. \n",
    "\n",
    "### Grading\n",
    "\n",
    "The detailed grading is defined in the marking guide in the Moodle workshop. Note that there's points both for getting a correct answer and for presenting it in a way that makes sense. \n",
    "\n",
    "## Structure\n",
    "\n",
    "Each section contains a set of questions/prompts and a rough framework for your responses. You can change the structure around, just make sure it is readable. What I have there is just a loose guide to help get you started, you're not bound to it. "
   ]
  },
  {
   "cell_type": "markdown",
   "metadata": {},
   "source": [
    "## Load Data\n",
    "\n",
    "Load the labor data into a dataframe. You probably don't want to change this section. "
   ]
  },
  {
   "cell_type": "code",
   "execution_count": 3,
   "metadata": {},
   "outputs": [
    {
     "data": {
      "text/html": [
       "<div>\n",
       "<style scoped>\n",
       "    .dataframe tbody tr th:only-of-type {\n",
       "        vertical-align: middle;\n",
       "    }\n",
       "\n",
       "    .dataframe tbody tr th {\n",
       "        vertical-align: top;\n",
       "    }\n",
       "\n",
       "    .dataframe thead th {\n",
       "        text-align: right;\n",
       "    }\n",
       "</style>\n",
       "<table border=\"1\" class=\"dataframe\">\n",
       "  <thead>\n",
       "    <tr style=\"text-align: right;\">\n",
       "      <th></th>\n",
       "      <th>Age</th>\n",
       "      <th>Eduacation</th>\n",
       "      <th>Race</th>\n",
       "      <th>Hisp</th>\n",
       "      <th>MaritalStatus</th>\n",
       "      <th>Nodeg</th>\n",
       "      <th>Earnings_1974</th>\n",
       "      <th>Earnings_1975</th>\n",
       "      <th>Earnings_1978</th>\n",
       "    </tr>\n",
       "  </thead>\n",
       "  <tbody>\n",
       "    <tr>\n",
       "      <th>0</th>\n",
       "      <td>45</td>\n",
       "      <td>LessThanHighSchool</td>\n",
       "      <td>NotBlack</td>\n",
       "      <td>NotHispanic</td>\n",
       "      <td>Married</td>\n",
       "      <td>1</td>\n",
       "      <td>21516.670</td>\n",
       "      <td>25243.550</td>\n",
       "      <td>25564.670</td>\n",
       "    </tr>\n",
       "    <tr>\n",
       "      <th>1</th>\n",
       "      <td>21</td>\n",
       "      <td>Intermediate</td>\n",
       "      <td>NotBlack</td>\n",
       "      <td>NotHispanic</td>\n",
       "      <td>NotMarried</td>\n",
       "      <td>0</td>\n",
       "      <td>3175.971</td>\n",
       "      <td>5852.565</td>\n",
       "      <td>13496.080</td>\n",
       "    </tr>\n",
       "    <tr>\n",
       "      <th>2</th>\n",
       "      <td>38</td>\n",
       "      <td>HighSchool</td>\n",
       "      <td>NotBlack</td>\n",
       "      <td>NotHispanic</td>\n",
       "      <td>Married</td>\n",
       "      <td>0</td>\n",
       "      <td>23039.020</td>\n",
       "      <td>25130.760</td>\n",
       "      <td>25564.670</td>\n",
       "    </tr>\n",
       "    <tr>\n",
       "      <th>3</th>\n",
       "      <td>48</td>\n",
       "      <td>LessThanHighSchool</td>\n",
       "      <td>NotBlack</td>\n",
       "      <td>NotHispanic</td>\n",
       "      <td>Married</td>\n",
       "      <td>1</td>\n",
       "      <td>24994.370</td>\n",
       "      <td>25243.550</td>\n",
       "      <td>25564.670</td>\n",
       "    </tr>\n",
       "    <tr>\n",
       "      <th>4</th>\n",
       "      <td>18</td>\n",
       "      <td>LessThanHighSchool</td>\n",
       "      <td>NotBlack</td>\n",
       "      <td>NotHispanic</td>\n",
       "      <td>Married</td>\n",
       "      <td>1</td>\n",
       "      <td>1669.295</td>\n",
       "      <td>10727.610</td>\n",
       "      <td>9860.869</td>\n",
       "    </tr>\n",
       "  </tbody>\n",
       "</table>\n",
       "</div>"
      ],
      "text/plain": [
       "   Age          Eduacation      Race         Hisp MaritalStatus  Nodeg  \\\n",
       "0   45  LessThanHighSchool  NotBlack  NotHispanic       Married      1   \n",
       "1   21        Intermediate  NotBlack  NotHispanic    NotMarried      0   \n",
       "2   38          HighSchool  NotBlack  NotHispanic       Married      0   \n",
       "3   48  LessThanHighSchool  NotBlack  NotHispanic       Married      1   \n",
       "4   18  LessThanHighSchool  NotBlack  NotHispanic       Married      1   \n",
       "\n",
       "   Earnings_1974  Earnings_1975  Earnings_1978  \n",
       "0      21516.670      25243.550      25564.670  \n",
       "1       3175.971       5852.565      13496.080  \n",
       "2      23039.020      25130.760      25564.670  \n",
       "3      24994.370      25243.550      25564.670  \n",
       "4       1669.295      10727.610       9860.869  "
      ]
     },
     "execution_count": 3,
     "metadata": {},
     "output_type": "execute_result"
    }
   ],
   "source": [
    "#Load/preview data\n",
    "df = pd.read_csv(\"LabourTrainingEvaluationData.csv\")\n",
    "df.head()"
   ]
  },
  {
   "cell_type": "code",
   "execution_count": 4,
   "metadata": {},
   "outputs": [
    {
     "data": {
      "text/html": [
       "<div>\n",
       "<style scoped>\n",
       "    .dataframe tbody tr th:only-of-type {\n",
       "        vertical-align: middle;\n",
       "    }\n",
       "\n",
       "    .dataframe tbody tr th {\n",
       "        vertical-align: top;\n",
       "    }\n",
       "\n",
       "    .dataframe thead th {\n",
       "        text-align: right;\n",
       "    }\n",
       "</style>\n",
       "<table border=\"1\" class=\"dataframe\">\n",
       "  <thead>\n",
       "    <tr style=\"text-align: right;\">\n",
       "      <th></th>\n",
       "      <th>Age</th>\n",
       "      <th>Nodeg</th>\n",
       "      <th>Earnings_1974</th>\n",
       "      <th>Earnings_1975</th>\n",
       "      <th>Earnings_1978</th>\n",
       "    </tr>\n",
       "  </thead>\n",
       "  <tbody>\n",
       "    <tr>\n",
       "      <th>count</th>\n",
       "      <td>15992.000000</td>\n",
       "      <td>15992.000000</td>\n",
       "      <td>15992.000000</td>\n",
       "      <td>15992.000000</td>\n",
       "      <td>15992.000000</td>\n",
       "    </tr>\n",
       "    <tr>\n",
       "      <th>mean</th>\n",
       "      <td>33.225238</td>\n",
       "      <td>0.295835</td>\n",
       "      <td>14016.800304</td>\n",
       "      <td>13650.803376</td>\n",
       "      <td>14846.659673</td>\n",
       "    </tr>\n",
       "    <tr>\n",
       "      <th>std</th>\n",
       "      <td>11.045216</td>\n",
       "      <td>0.456432</td>\n",
       "      <td>9569.795893</td>\n",
       "      <td>9270.403225</td>\n",
       "      <td>9647.391524</td>\n",
       "    </tr>\n",
       "    <tr>\n",
       "      <th>min</th>\n",
       "      <td>16.000000</td>\n",
       "      <td>0.000000</td>\n",
       "      <td>0.000000</td>\n",
       "      <td>0.000000</td>\n",
       "      <td>0.000000</td>\n",
       "    </tr>\n",
       "    <tr>\n",
       "      <th>25%</th>\n",
       "      <td>24.000000</td>\n",
       "      <td>0.000000</td>\n",
       "      <td>4403.452250</td>\n",
       "      <td>4398.823000</td>\n",
       "      <td>5669.298000</td>\n",
       "    </tr>\n",
       "    <tr>\n",
       "      <th>50%</th>\n",
       "      <td>31.000000</td>\n",
       "      <td>0.000000</td>\n",
       "      <td>15123.580000</td>\n",
       "      <td>14557.110000</td>\n",
       "      <td>16421.975000</td>\n",
       "    </tr>\n",
       "    <tr>\n",
       "      <th>75%</th>\n",
       "      <td>42.000000</td>\n",
       "      <td>1.000000</td>\n",
       "      <td>23584.180000</td>\n",
       "      <td>22923.737500</td>\n",
       "      <td>25564.670000</td>\n",
       "    </tr>\n",
       "    <tr>\n",
       "      <th>max</th>\n",
       "      <td>55.000000</td>\n",
       "      <td>1.000000</td>\n",
       "      <td>25862.320000</td>\n",
       "      <td>25243.550000</td>\n",
       "      <td>25564.670000</td>\n",
       "    </tr>\n",
       "  </tbody>\n",
       "</table>\n",
       "</div>"
      ],
      "text/plain": [
       "                Age         Nodeg  Earnings_1974  Earnings_1975  Earnings_1978\n",
       "count  15992.000000  15992.000000   15992.000000   15992.000000   15992.000000\n",
       "mean      33.225238      0.295835   14016.800304   13650.803376   14846.659673\n",
       "std       11.045216      0.456432    9569.795893    9270.403225    9647.391524\n",
       "min       16.000000      0.000000       0.000000       0.000000       0.000000\n",
       "25%       24.000000      0.000000    4403.452250    4398.823000    5669.298000\n",
       "50%       31.000000      0.000000   15123.580000   14557.110000   16421.975000\n",
       "75%       42.000000      1.000000   23584.180000   22923.737500   25564.670000\n",
       "max       55.000000      1.000000   25862.320000   25243.550000   25564.670000"
      ]
     },
     "execution_count": 4,
     "metadata": {},
     "output_type": "execute_result"
    }
   ],
   "source": [
    "df.describe()"
   ]
  },
  {
   "cell_type": "markdown",
   "metadata": {},
   "source": [
    "## Part 1 - Age\n",
    "\n",
    "<ol>\n",
    "<li> Make and plot a Hist and Pmf for age.\n",
    "<li> What fraction of the people in the data are 51? What fraction are older than 51?\n",
    "<li> What is the median age? \n",
    "<li> Does the distribution of the sample data seem to mirror the working age population?\n",
    "</ol>"
   ]
  },
  {
   "cell_type": "markdown",
   "metadata": {},
   "source": [
    "#### Make and plot a Hist and Pmf for age.\n",
    "\n"
   ]
  },
  {
   "cell_type": "code",
   "execution_count": 45,
   "metadata": {},
   "outputs": [
    {
     "data": {
      "text/plain": [
       "0        45\n",
       "1        21\n",
       "2        38\n",
       "3        48\n",
       "4        18\n",
       "         ..\n",
       "15987    22\n",
       "15988    20\n",
       "15989    37\n",
       "15990    47\n",
       "15991    40\n",
       "Name: Age, Length: 15992, dtype: int64"
      ]
     },
     "execution_count": 45,
     "metadata": {},
     "output_type": "execute_result"
    }
   ],
   "source": [
    "age_new=df[\"Age\"]\n",
    "age_new= age_new[~np.isnan(age_new)]\n",
    "age_new\n",
    "\n"
   ]
  },
  {
   "cell_type": "code",
   "execution_count": 6,
   "metadata": {},
   "outputs": [
    {
     "data": {
      "text/plain": [
       "Hist({29: 660, 28: 649, 27: 584, 26: 583, 25: 547, 24: 523, 21: 505, 23: 503, 18: 476, 22: 470, 32: 470, 30: 467, 19: 465, 31: 458, 33: 454, 20: 454, 34: 426, 17: 395, 35: 386, 36: 363, 38: 346, 16: 338, 37: 336, 39: 323, 51: 314, 40: 312, 41: 312, 47: 310, 45: 310, 42: 309, 55: 307, 50: 306, 48: 303, 53: 300, 49: 297, 52: 294, 46: 293, 44: 290, 43: 284, 54: 270}, 'Age')"
      ]
     },
     "execution_count": 6,
     "metadata": {},
     "output_type": "execute_result"
    }
   ],
   "source": [
    "age_obj = thinkstats2.Hist(age_new, label='Age')\n",
    "age_obj"
   ]
  },
  {
   "cell_type": "code",
   "execution_count": 7,
   "metadata": {},
   "outputs": [
    {
     "data": {
      "image/png": "[encoded data removed]",
      "text/plain": [
       "<Figure size 432x288 with 1 Axes>"
      ]
     },
     "metadata": {
      "needs_background": "light"
     },
     "output_type": "display_data"
    }
   ],
   "source": [
    "thinkplot.Hist(age_obj)\n",
    "thinkplot.Config(xlabel='Age in years', ylabel='count-Number')\n"
   ]
  },
  {
   "cell_type": "code",
   "execution_count": 8,
   "metadata": {},
   "outputs": [],
   "source": [
    "import matplotlib.pyplot as plt"
   ]
  },
  {
   "cell_type": "code",
   "execution_count": 9,
   "metadata": {},
   "outputs": [
    {
     "data": {
      "text/plain": [
       "Pmf({29: 0.04127063531765883, 28: 0.04058279139569784, 27: 0.03651825912956478, 26: 0.03645572786393196, 25: 0.03420460230115057, 24: 0.03270385192596298, 21: 0.03157828914457229, 23: 0.03145322661330665, 18: 0.029764882441220608, 22: 0.02938969484742371, 32: 0.02938969484742371, 30: 0.029202101050525262, 19: 0.029077038519259628, 31: 0.028639319659829913, 33: 0.028389194597298648, 20: 0.028389194597298648, 34: 0.026638319159579787, 17: 0.02469984992496248, 35: 0.02413706853426713, 36: 0.022698849424712356, 38: 0.021635817908954476, 16: 0.021135567783891945, 37: 0.02101050525262631, 39: 0.0201975987993997, 51: 0.01963481740870435, 40: 0.01950975487743872, 41: 0.01950975487743872, 47: 0.019384692346173085, 45: 0.019384692346173085, 42: 0.01932216108054027, 55: 0.019197098549274635, 50: 0.01913456728364182, 48: 0.01894697348674337, 53: 0.01875937968984492, 49: 0.01857178589294647, 52: 0.018384192096048024, 46: 0.018321660830415205, 44: 0.018134067033516756, 43: 0.01775887943971986, 54: 0.01688344172086043})"
      ]
     },
     "execution_count": 9,
     "metadata": {},
     "output_type": "execute_result"
    }
   ],
   "source": [
    "\n",
    "\n",
    "\n",
    "agepmf = thinkstats2.Pmf(round(age_new,2))\n",
    "agepmf\n"
   ]
  },
  {
   "cell_type": "code",
   "execution_count": 10,
   "metadata": {},
   "outputs": [
    {
     "data": {
      "image/png": "[encoded data removed]",
      "text/plain": [
       "<Figure size 432x288 with 1 Axes>"
      ]
     },
     "metadata": {
      "needs_background": "light"
     },
     "output_type": "display_data"
    }
   ],
   "source": [
    "\n",
    "\n",
    "thinkplot.Pmf(agepmf)\n",
    "thinkplot.config(xlabel=\"Age in year\", ylable=\"percentage\")\n",
    "\n",
    "\n"
   ]
  },
  {
   "cell_type": "code",
   "execution_count": null,
   "metadata": {},
   "outputs": [],
   "source": []
  },
  {
   "cell_type": "markdown",
   "metadata": {},
   "source": [
    "#### What fraction of the people in the data are 51? What fraction are older than 51?"
   ]
  },
  {
   "cell_type": "code",
   "execution_count": 11,
   "metadata": {},
   "outputs": [
    {
     "name": "stdout",
     "output_type": "stream",
     "text": [
      "Fraction of the people in the data at 51year:\n",
      "0.0007503751875937957\n",
      "Fraction of people above 51 year:\n",
      "0.01963481740870435\n"
     ]
    }
   ],
   "source": [
    "\n",
    "age_51=agepmf.Prob(50)-agepmf.Prob(52)\n",
    "print(\"Fraction of the people in the data at 51year:\")\n",
    "print(age_51)\n",
    "age_over_51=agepmf.Prob(51)\n",
    "print(\"Fraction of people above 51 year:\")\n",
    "print(age_over_51)\n",
    "\n",
    "\n"
   ]
  },
  {
   "cell_type": "code",
   "execution_count": 12,
   "metadata": {},
   "outputs": [
    {
     "data": {
      "text/plain": [
       "Cdf([16 17 18 19 20 21 22 23 24 25 26 27 28 29 30 31 32 33 34 35 36 37 38 39\n",
       " 40 41 42 43 44 45 46 47 48 49 50 51 52 53 54 55], [0.02113557 0.04583542 0.0756003  0.10467734 0.13306653 0.16464482\n",
       " 0.19403452 0.22548774 0.2581916  0.2923962  0.32885193 0.36537019\n",
       " 0.40595298 0.44722361 0.47642571 0.50506503 0.53445473 0.56284392\n",
       " 0.58948224 0.61361931 0.63631816 0.65732866 0.67896448 0.69916208\n",
       " 0.71867184 0.73818159 0.75750375 0.77526263 0.7933967  0.81278139\n",
       " 0.83110305 0.85048774 0.86943472 0.8880065  0.90714107 0.92677589\n",
       " 0.94516008 0.96391946 0.9808029  1.        ])"
      ]
     },
     "execution_count": 12,
     "metadata": {},
     "output_type": "execute_result"
    }
   ],
   "source": [
    "agecdf=thinkstats2.Cdf(round(age_new,2))\n",
    "agecdf\n"
   ]
  },
  {
   "cell_type": "code",
   "execution_count": 13,
   "metadata": {},
   "outputs": [
    {
     "name": "stdout",
     "output_type": "stream",
     "text": [
      "Median age is :  31.0\n"
     ]
    }
   ],
   "source": [
    "#Median age\n",
    "a= age_new.median()\n",
    "print(\"Median age is : \",a )"
   ]
  },
  {
   "cell_type": "markdown",
   "metadata": {},
   "source": [
    "##### Does the distribution of the sample data seem to mirror the working age population?"
   ]
  },
  {
   "cell_type": "markdown",
   "metadata": {},
   "source": []
  },
  {
   "cell_type": "code",
   "execution_count": 14,
   "metadata": {},
   "outputs": [
    {
     "data": {
      "text/html": [
       "<div>\n",
       "<style scoped>\n",
       "    .dataframe tbody tr th:only-of-type {\n",
       "        vertical-align: middle;\n",
       "    }\n",
       "\n",
       "    .dataframe tbody tr th {\n",
       "        vertical-align: top;\n",
       "    }\n",
       "\n",
       "    .dataframe thead th {\n",
       "        text-align: right;\n",
       "    }\n",
       "</style>\n",
       "<table border=\"1\" class=\"dataframe\">\n",
       "  <thead>\n",
       "    <tr style=\"text-align: right;\">\n",
       "      <th></th>\n",
       "      <th>Age</th>\n",
       "      <th>Eduacation</th>\n",
       "      <th>Race</th>\n",
       "      <th>Hisp</th>\n",
       "      <th>MaritalStatus</th>\n",
       "      <th>Nodeg</th>\n",
       "      <th>Earnings_1974</th>\n",
       "      <th>Earnings_1975</th>\n",
       "      <th>Earnings_1978</th>\n",
       "    </tr>\n",
       "  </thead>\n",
       "  <tbody>\n",
       "    <tr>\n",
       "      <th>0</th>\n",
       "      <td>45</td>\n",
       "      <td>LessThanHighSchool</td>\n",
       "      <td>NotBlack</td>\n",
       "      <td>NotHispanic</td>\n",
       "      <td>Married</td>\n",
       "      <td>1</td>\n",
       "      <td>21516.670</td>\n",
       "      <td>25243.550</td>\n",
       "      <td>25564.670</td>\n",
       "    </tr>\n",
       "    <tr>\n",
       "      <th>1</th>\n",
       "      <td>21</td>\n",
       "      <td>Intermediate</td>\n",
       "      <td>NotBlack</td>\n",
       "      <td>NotHispanic</td>\n",
       "      <td>NotMarried</td>\n",
       "      <td>0</td>\n",
       "      <td>3175.971</td>\n",
       "      <td>5852.565</td>\n",
       "      <td>13496.080</td>\n",
       "    </tr>\n",
       "    <tr>\n",
       "      <th>2</th>\n",
       "      <td>38</td>\n",
       "      <td>HighSchool</td>\n",
       "      <td>NotBlack</td>\n",
       "      <td>NotHispanic</td>\n",
       "      <td>Married</td>\n",
       "      <td>0</td>\n",
       "      <td>23039.020</td>\n",
       "      <td>25130.760</td>\n",
       "      <td>25564.670</td>\n",
       "    </tr>\n",
       "    <tr>\n",
       "      <th>3</th>\n",
       "      <td>48</td>\n",
       "      <td>LessThanHighSchool</td>\n",
       "      <td>NotBlack</td>\n",
       "      <td>NotHispanic</td>\n",
       "      <td>Married</td>\n",
       "      <td>1</td>\n",
       "      <td>24994.370</td>\n",
       "      <td>25243.550</td>\n",
       "      <td>25564.670</td>\n",
       "    </tr>\n",
       "    <tr>\n",
       "      <th>4</th>\n",
       "      <td>18</td>\n",
       "      <td>LessThanHighSchool</td>\n",
       "      <td>NotBlack</td>\n",
       "      <td>NotHispanic</td>\n",
       "      <td>Married</td>\n",
       "      <td>1</td>\n",
       "      <td>1669.295</td>\n",
       "      <td>10727.610</td>\n",
       "      <td>9860.869</td>\n",
       "    </tr>\n",
       "    <tr>\n",
       "      <th>...</th>\n",
       "      <td>...</td>\n",
       "      <td>...</td>\n",
       "      <td>...</td>\n",
       "      <td>...</td>\n",
       "      <td>...</td>\n",
       "      <td>...</td>\n",
       "      <td>...</td>\n",
       "      <td>...</td>\n",
       "      <td>...</td>\n",
       "    </tr>\n",
       "    <tr>\n",
       "      <th>15987</th>\n",
       "      <td>22</td>\n",
       "      <td>HighSchool</td>\n",
       "      <td>black</td>\n",
       "      <td>NotHispanic</td>\n",
       "      <td>NotMarried</td>\n",
       "      <td>0</td>\n",
       "      <td>3975.352</td>\n",
       "      <td>6801.435</td>\n",
       "      <td>2757.438</td>\n",
       "    </tr>\n",
       "    <tr>\n",
       "      <th>15988</th>\n",
       "      <td>20</td>\n",
       "      <td>HighSchool</td>\n",
       "      <td>black</td>\n",
       "      <td>NotHispanic</td>\n",
       "      <td>Married</td>\n",
       "      <td>0</td>\n",
       "      <td>1445.939</td>\n",
       "      <td>11832.240</td>\n",
       "      <td>6895.072</td>\n",
       "    </tr>\n",
       "    <tr>\n",
       "      <th>15989</th>\n",
       "      <td>37</td>\n",
       "      <td>HighSchool</td>\n",
       "      <td>NotBlack</td>\n",
       "      <td>NotHispanic</td>\n",
       "      <td>NotMarried</td>\n",
       "      <td>0</td>\n",
       "      <td>1733.951</td>\n",
       "      <td>1559.371</td>\n",
       "      <td>4221.865</td>\n",
       "    </tr>\n",
       "    <tr>\n",
       "      <th>15990</th>\n",
       "      <td>47</td>\n",
       "      <td>LessThanHighSchool</td>\n",
       "      <td>NotBlack</td>\n",
       "      <td>NotHispanic</td>\n",
       "      <td>Married</td>\n",
       "      <td>1</td>\n",
       "      <td>16914.350</td>\n",
       "      <td>11384.660</td>\n",
       "      <td>13671.930</td>\n",
       "    </tr>\n",
       "    <tr>\n",
       "      <th>15991</th>\n",
       "      <td>40</td>\n",
       "      <td>LessThanHighSchool</td>\n",
       "      <td>NotBlack</td>\n",
       "      <td>NotHispanic</td>\n",
       "      <td>NotMarried</td>\n",
       "      <td>1</td>\n",
       "      <td>13628.660</td>\n",
       "      <td>13144.550</td>\n",
       "      <td>7979.724</td>\n",
       "    </tr>\n",
       "  </tbody>\n",
       "</table>\n",
       "<p>14079 rows × 9 columns</p>\n",
       "</div>"
      ],
      "text/plain": [
       "       Age          Eduacation      Race         Hisp MaritalStatus  Nodeg  \\\n",
       "0       45  LessThanHighSchool  NotBlack  NotHispanic       Married      1   \n",
       "1       21        Intermediate  NotBlack  NotHispanic    NotMarried      0   \n",
       "2       38          HighSchool  NotBlack  NotHispanic       Married      0   \n",
       "3       48  LessThanHighSchool  NotBlack  NotHispanic       Married      1   \n",
       "4       18  LessThanHighSchool  NotBlack  NotHispanic       Married      1   \n",
       "...    ...                 ...       ...          ...           ...    ...   \n",
       "15987   22          HighSchool     black  NotHispanic    NotMarried      0   \n",
       "15988   20          HighSchool     black  NotHispanic       Married      0   \n",
       "15989   37          HighSchool  NotBlack  NotHispanic    NotMarried      0   \n",
       "15990   47  LessThanHighSchool  NotBlack  NotHispanic       Married      1   \n",
       "15991   40  LessThanHighSchool  NotBlack  NotHispanic    NotMarried      1   \n",
       "\n",
       "       Earnings_1974  Earnings_1975  Earnings_1978  \n",
       "0          21516.670      25243.550      25564.670  \n",
       "1           3175.971       5852.565      13496.080  \n",
       "2          23039.020      25130.760      25564.670  \n",
       "3          24994.370      25243.550      25564.670  \n",
       "4           1669.295      10727.610       9860.869  \n",
       "...              ...            ...            ...  \n",
       "15987       3975.352       6801.435       2757.438  \n",
       "15988       1445.939      11832.240       6895.072  \n",
       "15989       1733.951       1559.371       4221.865  \n",
       "15990      16914.350      11384.660      13671.930  \n",
       "15991      13628.660      13144.550       7979.724  \n",
       "\n",
       "[14079 rows x 9 columns]"
      ]
     },
     "execution_count": 14,
     "metadata": {},
     "output_type": "execute_result"
    }
   ],
   "source": [
    "\n",
    "df_working=df[df[\"Earnings_1974\"]!=0]\n",
    "working_age=df_working[\"Age\"]\n",
    "df_working"
   ]
  },
  {
   "cell_type": "code",
   "execution_count": 15,
   "metadata": {},
   "outputs": [
    {
     "data": {
      "image/png": "[encoded data removed]",
      "text/plain": [
       "<Figure size 432x288 with 1 Axes>"
      ]
     },
     "metadata": {
      "needs_background": "light"
     },
     "output_type": "display_data"
    }
   ],
   "source": [
    "working_age_obj=thinkstats2.Hist(working_age)\n",
    "hist_working=thinkplot.hist(working_age_obj)"
   ]
  },
  {
   "cell_type": "code",
   "execution_count": 16,
   "metadata": {},
   "outputs": [
    {
     "data": {
      "text/plain": [
       "32.0"
      ]
     },
     "execution_count": 16,
     "metadata": {},
     "output_type": "execute_result"
    }
   ],
   "source": [
    "working_pmf=thinkstats2.Pmf(working_age)\n",
    "working_age.median()\n",
    "#normal distibution as the most of the curve have bell shape\n",
    "# Yes distribution of sample data mirrors the working age data, since the graph for both are almost identical  \n",
    "# and the median are quite close. "
   ]
  },
  {
   "cell_type": "markdown",
   "metadata": {},
   "source": [
    "### Part 2 - Demographics\n",
    "\n",
    "<ul>\n",
    "<li>Consider some of the demographic features: \n",
    "    <ul>\n",
    "    <li>Education\n",
    "    <li>Race\n",
    "    <li>Hisp\n",
    "    <li>MaritalStatus\n",
    "    <li>Nodeg. \n",
    "    </ul>\n",
    "</ul>\n",
    "<ol>\n",
    "<li>This data came from the United States, does it appear to be a representative sample of the US population?\n",
    "<li>Demonstrate this in some way in your code. \n",
    "</ol>\n",
    "\n",
    "##### Exploring the data..."
   ]
  },
  {
   "cell_type": "code",
   "execution_count": 17,
   "metadata": {},
   "outputs": [
    {
     "name": "stdout",
     "output_type": "stream",
     "text": [
      "Fraction of black people with graduation is ;\n",
      " 4.421768707482993\n"
     ]
    }
   ],
   "source": [
    "b_df=df[df[\"Race\"]=='black']\n",
    "a=b_df.shape[0]\n",
    "\n",
    "bg_df=b_df[b_df[\"Eduacation\"]=='graduate']\n",
    "b=bg_df.shape[0]\n",
    "\n",
    "c=(b*100)/a\n",
    "\n",
    "print(\"Fraction of black people with graduation is ;\\n\",c)"
   ]
  },
  {
   "cell_type": "code",
   "execution_count": 18,
   "metadata": {},
   "outputs": [],
   "source": [
    "# 1- According to internet rearch- Roughly between 4%-10% African-born Blacks had a bachelor’s degree or higher as of 1974 to 1978, \n",
    "\n",
    "# In the assignment_1 data  given to us, the percentage of black american having a degree between 1974-1978 is around 4.4 % degree.\n",
    "\n",
    "# Conclusion- Since percentage of black american with degree in our data is quite close to the internet search, \n",
    "# therefore, the data appears to be representative sample of US population."
   ]
  },
  {
   "cell_type": "markdown",
   "metadata": {},
   "source": [
    "##### Demographic Conclusion\n"
   ]
  },
  {
   "cell_type": "markdown",
   "metadata": {},
   "source": [
    "### Part 3 - Earnings\n",
    "\n",
    "<ol>\n",
    "<li>Make and plot a graph or graph of your choosing of the 3 earnings values, in order to answer the below question. Identify how the graph gave you your answer.\n",
    "    <ul>\n",
    "    <li>What is one conclusion could you draw from visualizing of the earnings in the different year? Please express it in plain language/non-statistics terms/as though you were explaining to one of your friends what happened to earnings between 1974 and 1978?\n",
    "    </ul>\n",
    "<li>Which has the greatest effect size on 1978 earnings: Race, Hispanic, MaritalStatus, or Nodeg? \n",
    "    <ul>\n",
    "    <li>What could you investigate further in an attempt to explain this?\n",
    "    </ul>\n",
    "<li>Plot a histogram and PMF, and compute useful descriptive statistics (think: average...) for the 1978 earnings value. Use the \"Cohorts\" code from the quiz to break the data into cohorts, plotting each group (either on one chart, or separately, whichever makes the most sense for examining the data - state specifically why you chose 1 vs many charts.\n",
    "    <ul>\n",
    "    <li>What is the difference in median income between the groups?\n",
    "    <li>Theorize a reason for the difference between the groups that could be explained with more data. Briefly describe the data you'd need. This does not need to be something you have data for, or know how to solve right now - just one well founded hypothesis on what might explain the difference.\n",
    "    </ul>\n",
    "<li>Are there outliers in the 1978 earnings data? Demonstrate this in some way with your code. \n",
    "    <ul>\n",
    "    <li>What can you infer from the presence of outliers that may impact analysis of this data.\n",
    "    </ul>\n",
    "</ol>"
   ]
  },
  {
   "cell_type": "markdown",
   "metadata": {},
   "source": [
    "##### Plot Earnings Data"
   ]
  },
  {
   "cell_type": "code",
   "execution_count": 19,
   "metadata": {},
   "outputs": [
    {
     "data": {
      "text/plain": [
       "count    15992.000000\n",
       "mean     14016.800304\n",
       "std       9569.795893\n",
       "min          0.000000\n",
       "25%       4403.452250\n",
       "50%      15123.580000\n",
       "75%      23584.180000\n",
       "max      25862.320000\n",
       "Name: Earnings_1974, dtype: float64"
      ]
     },
     "execution_count": 19,
     "metadata": {},
     "output_type": "execute_result"
    },
    {
     "data": {
      "image/png": "[encoded data removed]",
      "text/plain": [
       "<Figure size 432x288 with 1 Axes>"
      ]
     },
     "metadata": {
      "needs_background": "light"
     },
     "output_type": "display_data"
    }
   ],
   "source": [
    "sns.histplot(df[\"Earnings_1974\"]) \n",
    "df74=df[\"Earnings_1974\"]\n",
    "df74.describe()\n",
    "\n"
   ]
  },
  {
   "cell_type": "code",
   "execution_count": 20,
   "metadata": {},
   "outputs": [
    {
     "data": {
      "text/plain": [
       "count    15992.000000\n",
       "mean     13650.803376\n",
       "std       9270.403225\n",
       "min          0.000000\n",
       "25%       4398.823000\n",
       "50%      14557.110000\n",
       "75%      22923.737500\n",
       "max      25243.550000\n",
       "Name: Earnings_1975, dtype: float64"
      ]
     },
     "execution_count": 20,
     "metadata": {},
     "output_type": "execute_result"
    },
    {
     "data": {
      "image/png": "[encoded data removed]",
      "text/plain": [
       "<Figure size 432x288 with 1 Axes>"
      ]
     },
     "metadata": {
      "needs_background": "light"
     },
     "output_type": "display_data"
    }
   ],
   "source": [
    "\n",
    "\n",
    "sns.histplot(df[\"Earnings_1975\"])\n",
    "df75=df[\"Earnings_1975\"]\n",
    "df75.describe()\n",
    "\n",
    "\n",
    "\n"
   ]
  },
  {
   "cell_type": "code",
   "execution_count": 21,
   "metadata": {},
   "outputs": [
    {
     "data": {
      "text/plain": [
       "count    15992.000000\n",
       "mean     14846.659673\n",
       "std       9647.391524\n",
       "min          0.000000\n",
       "25%       5669.298000\n",
       "50%      16421.975000\n",
       "75%      25564.670000\n",
       "max      25564.670000\n",
       "Name: Earnings_1978, dtype: float64"
      ]
     },
     "execution_count": 21,
     "metadata": {},
     "output_type": "execute_result"
    },
    {
     "data": {
      "image/png": "[encoded data removed]",
      "text/plain": [
       "<Figure size 432x288 with 1 Axes>"
      ]
     },
     "metadata": {
      "needs_background": "light"
     },
     "output_type": "display_data"
    }
   ],
   "source": [
    "sns.histplot(df[\"Earnings_1978\"])\n",
    "df78=df[\"Earnings_1978\"]\n",
    "df78.describe()"
   ]
  },
  {
   "cell_type": "code",
   "execution_count": 22,
   "metadata": {},
   "outputs": [],
   "source": [
    "#Part -3 (1) # By oberving the earnings in year 1974 and year 1978 that-\n",
    "#1- The height of bar is high for 0-50000 income group,therefore the count of people who was earning less than 5000 were high.\n",
    "#2- The height of the bars are lowest for income group 5000-10000 therefore the count of people in  income group 5000 to 10000 was the lowest.\n",
    "#3- The height of the bar is higestest for income group 20000-250000 therefore, the count of people in income group 20000-25000was the highest."
   ]
  },
  {
   "cell_type": "code",
   "execution_count": 23,
   "metadata": {},
   "outputs": [
    {
     "name": "stdout",
     "output_type": "stream",
     "text": [
      "Variatonin 1974 Earning data 91575266.76554328\n",
      "Variatonin 1975 Earning data 85935001.9910381\n",
      "Variatonin 1978 Earning data 93066343.30405259\n",
      "Standard Deviation for 1974 Earning data 9569.496682978854\n",
      "Standard Deviation for 1975 Earning data 9270.113375306588\n",
      "Standard Deviation for 1978 Earning data 9647.089887839367\n"
     ]
    }
   ],
   "source": [
    "print((\"Variatonin 1974 Earning data\"),np.var(df74))\n",
    "print((\"Variatonin 1975 Earning data\"),np.var(df75))\n",
    "print((\"Variatonin 1978 Earning data\"),np.var(df78))\n",
    "print((\"Standard Deviation for 1974 Earning data\"),np.std(df74))\n",
    "print((\"Standard Deviation for 1975 Earning data\"),np.std(df75))\n",
    "print((\"Standard Deviation for 1978 Earning data\"),np.std(df78))"
   ]
  },
  {
   "cell_type": "code",
   "execution_count": 24,
   "metadata": {},
   "outputs": [],
   "source": [
    "# Variation is highest for 1978 data therefore the data is more spred out than data for year 1974 and 1975"
   ]
  },
  {
   "cell_type": "code",
   "execution_count": 25,
   "metadata": {},
   "outputs": [
    {
     "name": "stdout",
     "output_type": "stream",
     "text": [
      "Coheneffectsize for Hispanic data is : 0.1621042261007645\n"
     ]
    }
   ],
   "source": [
    "from hashlib import new\n",
    "\n",
    "from thinkstats2 import CohenEffectSize\n",
    "nh_df =df[df[\"Hisp\"]=='NotHispanic']\n",
    "h_df=df[df[\"Hisp\"]=='hispanic']\n",
    "nhdf=(round(nh_df[\"Earnings_1978\"]))\n",
    "hdf=(round(h_df[\"Earnings_1978\"]))\n",
    "\n",
    "\n",
    "print(\"Coheneffectsize for Hispanic data is :\",CohenEffectSize(nhdf,hdf))"
   ]
  },
  {
   "cell_type": "code",
   "execution_count": 26,
   "metadata": {},
   "outputs": [
    {
     "name": "stdout",
     "output_type": "stream",
     "text": [
      "CohenEffectSize for Race is :\n"
     ]
    },
    {
     "data": {
      "text/plain": [
       "0.318833207678726"
      ]
     },
     "execution_count": 26,
     "metadata": {},
     "output_type": "execute_result"
    }
   ],
   "source": [
    "nb_df =df[df[\"Race\"] =='NotBlack']\n",
    "b_df=df[df[\"Race\"]=='black']\n",
    "#print(round(nb_df[\"Earnings_1978\"]).mean())\n",
    "#print(round(b_df[\"Earnings_1978\"]).mean())\n",
    "nbdf=round(nb_df[\"Earnings_1978\"])\n",
    "bdf=round(b_df[\"Earnings_1978\"])\n",
    "\n",
    "print(\"CohenEffectSize for Race is :\")\n",
    "CohenEffectSize(nbdf,bdf)"
   ]
  },
  {
   "cell_type": "code",
   "execution_count": 27,
   "metadata": {},
   "outputs": [
    {
     "name": "stdout",
     "output_type": "stream",
     "text": [
      "CohenEffectSize for MaritalStatus is :\n"
     ]
    },
    {
     "data": {
      "text/plain": [
       "0.5737410329687184"
      ]
     },
     "execution_count": 27,
     "metadata": {},
     "output_type": "execute_result"
    }
   ],
   "source": [
    "m_df =df[df[\"MaritalStatus\"] =='Married']\n",
    "nm_df=df[df[\"MaritalStatus\"]=='NotMarried']\n",
    "#print(round(m_df[\"Earnings_1978\"]).mean())\n",
    "#print(round(nm_df[\"Earnings_1978\"]).mean())\n",
    "mdf=round(m_df[\"Earnings_1978\"])\n",
    "nmdf=round(nm_df[\"Earnings_1978\"])\n",
    "\n",
    "print(\"CohenEffectSize for MaritalStatus is :\")\n",
    "CohenEffectSize(mdf,nmdf)"
   ]
  },
  {
   "cell_type": "code",
   "execution_count": 28,
   "metadata": {},
   "outputs": [
    {
     "name": "stdout",
     "output_type": "stream",
     "text": [
      "CohenEffectSize for NoDeg is :\n"
     ]
    },
    {
     "data": {
      "text/plain": [
       "0.33679489778913985"
      ]
     },
     "execution_count": 28,
     "metadata": {},
     "output_type": "execute_result"
    }
   ],
   "source": [
    "d_df =df[df[\"Nodeg\"] == 1]\n",
    "nd_df=df[df[\"Nodeg\"]==0]\n",
    "#print(round(m_df[\"Earnings_1978\"]).mean())\n",
    "#print(round(nm_df[\"Earnings_1978\"]).mean())\n",
    "ddf=round(d_df[\"Earnings_1978\"])\n",
    "nddf=round(nd_df[\"Earnings_1978\"])\n",
    "\n",
    "print(\"CohenEffectSize for NoDeg is :\")\n",
    "CohenEffectSize(nddf,ddf)"
   ]
  },
  {
   "cell_type": "code",
   "execution_count": 29,
   "metadata": {},
   "outputs": [],
   "source": [
    "#Part -3(2) \n",
    "\n",
    "# 1- CohenEffectSize for NoDeg is :\n",
    "#     0.33679489778913985\n",
    "# 2- CohenEffectSize for MaritalStatus is :\n",
    "#     0.5737410329687184\n",
    "# 3- CohenEffectSize for Race is :\n",
    "#     0.318833207678726\n",
    "# 4- Coheneffectsize for Hispanic data is : \n",
    "#     0.1621042261007645\n",
    "\n",
    "# if effect size<0.3 than small\n",
    "# effect size,0.3-0.5 medium \n",
    "# effect size,>0.5 large size]\n",
    "#Therefore Effect size of Maritalstatus group is highest among NoDeg,MaritalStatus,Race,Hispanic"
   ]
  },
  {
   "cell_type": "markdown",
   "metadata": {},
   "source": [
    "As a conclusion, there seems to be a large jump in the number of people earning near the top end, around $25k. Otherwise the distributions are pretty similar. "
   ]
  },
  {
   "cell_type": "markdown",
   "metadata": {},
   "source": [
    "##### What to Investigate Further\n"
   ]
  },
  {
   "cell_type": "markdown",
   "metadata": {},
   "source": []
  },
  {
   "cell_type": "markdown",
   "metadata": {},
   "source": [
    "##### Histogram and PMF"
   ]
  },
  {
   "cell_type": "code",
   "execution_count": 30,
   "metadata": {},
   "outputs": [],
   "source": [
    "#Create a hist, pmf, and stats for 1987 Earnings\n",
    "#Note: if you don't round or otherwise create bins, the thinkstats plots for this will be weird\n",
    "#That's because there are very few values that are the same, e.g. $14762.34, $15672.86, etc... \n",
    "#Every cent is a different value. \n",
    "#Seaborn plots will probably look better by default. "
   ]
  },
  {
   "cell_type": "code",
   "execution_count": 31,
   "metadata": {},
   "outputs": [
    {
     "data": {
      "image/png": "[encoded data removed]",
      "text/plain": [
       "<Figure size 432x288 with 1 Axes>"
      ]
     },
     "metadata": {
      "needs_background": "light"
     },
     "output_type": "display_data"
    }
   ],
   "source": [
    "#Histogram for 1987 earnings:\n",
    "\n",
    "sns.histplot(df[\"Earnings_1978\"])\n",
    "df78=df[\"Earnings_1978\"]\n"
   ]
  },
  {
   "cell_type": "code",
   "execution_count": 32,
   "metadata": {},
   "outputs": [
    {
     "data": {
      "image/png": "[encoded data removed]",
      "text/plain": [
       "<Figure size 432x288 with 1 Axes>"
      ]
     },
     "metadata": {
      "needs_background": "light"
     },
     "output_type": "display_data"
    }
   ],
   "source": [
    "#PMF for 1978 earnings:\n",
    "pmf78=thinkstats2.Pmf(df78)\n",
    "thinkplot.pmf(pmf78)"
   ]
  },
  {
   "cell_type": "markdown",
   "metadata": {},
   "source": [
    "##### Differences in Median Income, and Theory on Why\n"
   ]
  },
  {
   "cell_type": "code",
   "execution_count": 33,
   "metadata": {},
   "outputs": [
    {
     "name": "stdout",
     "output_type": "stream",
     "text": [
      "Meadian for year 74  15123.58\n",
      "Meadian for year 74  14557.11\n",
      "Meadian for year 74  16421.975\n"
     ]
    }
   ],
   "source": [
    "\n",
    "print(\"Meadian for year 74 \",df74.median())\n",
    "print(\"Meadian for year 74 \",df75.median())\n",
    "print(\"Meadian for year 74 \",df78.median())"
   ]
  },
  {
   "cell_type": "code",
   "execution_count": 34,
   "metadata": {},
   "outputs": [],
   "source": [
    "#Difference in median income is due to change in different count of number in each earning group."
   ]
  },
  {
   "cell_type": "markdown",
   "metadata": {},
   "source": [
    "##### Outliers"
   ]
  },
  {
   "cell_type": "code",
   "execution_count": 35,
   "metadata": {},
   "outputs": [
    {
     "data": {
      "text/plain": [
       "<AxesSubplot:xlabel='Earnings_1978', ylabel='Count'>"
      ]
     },
     "execution_count": 35,
     "metadata": {},
     "output_type": "execute_result"
    },
    {
     "data": {
      "image/png": "[encoded data removed]",
      "text/plain": [
       "<Figure size 432x288 with 1 Axes>"
      ]
     },
     "metadata": {
      "needs_background": "light"
     },
     "output_type": "display_data"
    }
   ],
   "source": [
    "sns.histplot(df[\"Earnings_1978\"])"
   ]
  },
  {
   "cell_type": "code",
   "execution_count": 36,
   "metadata": {},
   "outputs": [
    {
     "data": {
      "text/plain": [
       "count    15992.000000\n",
       "mean     14846.659673\n",
       "std       9647.391524\n",
       "min          0.000000\n",
       "25%       5669.298000\n",
       "50%      16421.975000\n",
       "75%      25564.670000\n",
       "max      25564.670000\n",
       "Name: Earnings_1978, dtype: float64"
      ]
     },
     "execution_count": 36,
     "metadata": {},
     "output_type": "execute_result"
    }
   ],
   "source": [
    "df78.describe().T"
   ]
  },
  {
   "cell_type": "code",
   "execution_count": 37,
   "metadata": {},
   "outputs": [],
   "source": [
    "# Graphing Helper Function\n",
    "def bigGraph(df_in, columnName, rnd=0):\n",
    "    data = pd.Series(df_in[columnName])\n",
    "    hist = thinkstats2.Hist(round(data, rnd))\n",
    "    pmf = thinkstats2.Pmf(data)\n",
    "    cdf = thinkstats2.Cdf(data)\n",
    "    thinkplot.PrePlot(6, rows =2, cols=3)\n",
    "    thinkplot.Hist(hist)\n",
    "    thinkplot.SubPlot(2)\n",
    "    thinkplot.Pmf(pmf)\n",
    "    thinkplot.SubPlot(3)\n",
    "    thinkplot.Cdf(cdf)\n",
    "    thinkplot.SubPlot(4)\n",
    "    thinkstats2.NormalProbabilityPlot(data)\n",
    "    thinkplot.SubPlot(5)\n",
    "    thinkstats2.NormalProbabilityPlot(np.log(data))\n",
    "    thinkplot.SubPlot(6)\n",
    "    pdf = thinkstats2.EstimatedPdf(data)\n",
    "    thinkplot.Pdf(pdf)\n",
    "    thinkplot.Config()\n",
    "    return\n"
   ]
  },
  {
   "cell_type": "code",
   "execution_count": 38,
   "metadata": {},
   "outputs": [
    {
     "data": {
      "text/html": [
       "<div>\n",
       "<style scoped>\n",
       "    .dataframe tbody tr th:only-of-type {\n",
       "        vertical-align: middle;\n",
       "    }\n",
       "\n",
       "    .dataframe tbody tr th {\n",
       "        vertical-align: top;\n",
       "    }\n",
       "\n",
       "    .dataframe thead th {\n",
       "        text-align: right;\n",
       "    }\n",
       "</style>\n",
       "<table border=\"1\" class=\"dataframe\">\n",
       "  <thead>\n",
       "    <tr style=\"text-align: right;\">\n",
       "      <th></th>\n",
       "      <th>Age</th>\n",
       "      <th>Nodeg</th>\n",
       "      <th>Earnings_1974</th>\n",
       "      <th>Earnings_1975</th>\n",
       "      <th>Earnings_1978</th>\n",
       "    </tr>\n",
       "  </thead>\n",
       "  <tbody>\n",
       "    <tr>\n",
       "      <th>count</th>\n",
       "      <td>15992.000000</td>\n",
       "      <td>15992.000000</td>\n",
       "      <td>15992.000000</td>\n",
       "      <td>15992.000000</td>\n",
       "      <td>15992.000000</td>\n",
       "    </tr>\n",
       "    <tr>\n",
       "      <th>mean</th>\n",
       "      <td>33.225238</td>\n",
       "      <td>0.295835</td>\n",
       "      <td>14016.800304</td>\n",
       "      <td>13650.803376</td>\n",
       "      <td>14846.659673</td>\n",
       "    </tr>\n",
       "    <tr>\n",
       "      <th>std</th>\n",
       "      <td>11.045216</td>\n",
       "      <td>0.456432</td>\n",
       "      <td>9569.795893</td>\n",
       "      <td>9270.403225</td>\n",
       "      <td>9647.391524</td>\n",
       "    </tr>\n",
       "    <tr>\n",
       "      <th>min</th>\n",
       "      <td>16.000000</td>\n",
       "      <td>0.000000</td>\n",
       "      <td>0.000000</td>\n",
       "      <td>0.000000</td>\n",
       "      <td>0.000000</td>\n",
       "    </tr>\n",
       "    <tr>\n",
       "      <th>25%</th>\n",
       "      <td>24.000000</td>\n",
       "      <td>0.000000</td>\n",
       "      <td>4403.452250</td>\n",
       "      <td>4398.823000</td>\n",
       "      <td>5669.298000</td>\n",
       "    </tr>\n",
       "    <tr>\n",
       "      <th>50%</th>\n",
       "      <td>31.000000</td>\n",
       "      <td>0.000000</td>\n",
       "      <td>15123.580000</td>\n",
       "      <td>14557.110000</td>\n",
       "      <td>16421.975000</td>\n",
       "    </tr>\n",
       "    <tr>\n",
       "      <th>75%</th>\n",
       "      <td>42.000000</td>\n",
       "      <td>1.000000</td>\n",
       "      <td>23584.180000</td>\n",
       "      <td>22923.737500</td>\n",
       "      <td>25564.670000</td>\n",
       "    </tr>\n",
       "    <tr>\n",
       "      <th>max</th>\n",
       "      <td>55.000000</td>\n",
       "      <td>1.000000</td>\n",
       "      <td>25862.320000</td>\n",
       "      <td>25243.550000</td>\n",
       "      <td>25564.670000</td>\n",
       "    </tr>\n",
       "  </tbody>\n",
       "</table>\n",
       "</div>"
      ],
      "text/plain": [
       "                Age         Nodeg  Earnings_1974  Earnings_1975  Earnings_1978\n",
       "count  15992.000000  15992.000000   15992.000000   15992.000000   15992.000000\n",
       "mean      33.225238      0.295835   14016.800304   13650.803376   14846.659673\n",
       "std       11.045216      0.456432    9569.795893    9270.403225    9647.391524\n",
       "min       16.000000      0.000000       0.000000       0.000000       0.000000\n",
       "25%       24.000000      0.000000    4403.452250    4398.823000    5669.298000\n",
       "50%       31.000000      0.000000   15123.580000   14557.110000   16421.975000\n",
       "75%       42.000000      1.000000   23584.180000   22923.737500   25564.670000\n",
       "max       55.000000      1.000000   25862.320000   25243.550000   25564.670000"
      ]
     },
     "execution_count": 38,
     "metadata": {},
     "output_type": "execute_result"
    }
   ],
   "source": [
    "df.describe()"
   ]
  },
  {
   "cell_type": "code",
   "execution_count": 39,
   "metadata": {},
   "outputs": [],
   "source": [
    "# Histogram for earnings for 78 shows unusallly high peek at earnings less than 5000 abd more than 25000;\n",
    "# therefore filtering outliers by taking earnings less than 20000 and greater than 5000\n",
    "\n",
    "out_78=df[df[\"Earnings_1978\"]<20000]\n",
    "outl_78=out_78[out_78[\"Earnings_1978\"]>5000]\n",
    "\n"
   ]
  },
  {
   "cell_type": "code",
   "execution_count": 40,
   "metadata": {},
   "outputs": [
    {
     "data": {
      "text/html": [
       "<div>\n",
       "<style scoped>\n",
       "    .dataframe tbody tr th:only-of-type {\n",
       "        vertical-align: middle;\n",
       "    }\n",
       "\n",
       "    .dataframe tbody tr th {\n",
       "        vertical-align: top;\n",
       "    }\n",
       "\n",
       "    .dataframe thead th {\n",
       "        text-align: right;\n",
       "    }\n",
       "</style>\n",
       "<table border=\"1\" class=\"dataframe\">\n",
       "  <thead>\n",
       "    <tr style=\"text-align: right;\">\n",
       "      <th></th>\n",
       "      <th>Age</th>\n",
       "      <th>Eduacation</th>\n",
       "      <th>Race</th>\n",
       "      <th>Hisp</th>\n",
       "      <th>MaritalStatus</th>\n",
       "      <th>Nodeg</th>\n",
       "      <th>Earnings_1974</th>\n",
       "      <th>Earnings_1975</th>\n",
       "      <th>Earnings_1978</th>\n",
       "    </tr>\n",
       "  </thead>\n",
       "  <tbody>\n",
       "    <tr>\n",
       "      <th>1</th>\n",
       "      <td>21</td>\n",
       "      <td>Intermediate</td>\n",
       "      <td>NotBlack</td>\n",
       "      <td>NotHispanic</td>\n",
       "      <td>NotMarried</td>\n",
       "      <td>0</td>\n",
       "      <td>3175.971</td>\n",
       "      <td>5852.565</td>\n",
       "      <td>13496.080</td>\n",
       "    </tr>\n",
       "    <tr>\n",
       "      <th>4</th>\n",
       "      <td>18</td>\n",
       "      <td>LessThanHighSchool</td>\n",
       "      <td>NotBlack</td>\n",
       "      <td>NotHispanic</td>\n",
       "      <td>Married</td>\n",
       "      <td>1</td>\n",
       "      <td>1669.295</td>\n",
       "      <td>10727.610</td>\n",
       "      <td>9860.869</td>\n",
       "    </tr>\n",
       "    <tr>\n",
       "      <th>6</th>\n",
       "      <td>48</td>\n",
       "      <td>LessThanHighSchool</td>\n",
       "      <td>NotBlack</td>\n",
       "      <td>NotHispanic</td>\n",
       "      <td>Married</td>\n",
       "      <td>1</td>\n",
       "      <td>16804.630</td>\n",
       "      <td>16354.600</td>\n",
       "      <td>18059.300</td>\n",
       "    </tr>\n",
       "    <tr>\n",
       "      <th>7</th>\n",
       "      <td>18</td>\n",
       "      <td>LessThanHighSchool</td>\n",
       "      <td>NotBlack</td>\n",
       "      <td>NotHispanic</td>\n",
       "      <td>NotMarried</td>\n",
       "      <td>1</td>\n",
       "      <td>1144.212</td>\n",
       "      <td>3620.032</td>\n",
       "      <td>15739.270</td>\n",
       "    </tr>\n",
       "    <tr>\n",
       "      <th>11</th>\n",
       "      <td>16</td>\n",
       "      <td>LessThanHighSchool</td>\n",
       "      <td>NotBlack</td>\n",
       "      <td>NotHispanic</td>\n",
       "      <td>NotMarried</td>\n",
       "      <td>1</td>\n",
       "      <td>1026.656</td>\n",
       "      <td>1224.581</td>\n",
       "      <td>6847.785</td>\n",
       "    </tr>\n",
       "    <tr>\n",
       "      <th>...</th>\n",
       "      <td>...</td>\n",
       "      <td>...</td>\n",
       "      <td>...</td>\n",
       "      <td>...</td>\n",
       "      <td>...</td>\n",
       "      <td>...</td>\n",
       "      <td>...</td>\n",
       "      <td>...</td>\n",
       "      <td>...</td>\n",
       "    </tr>\n",
       "    <tr>\n",
       "      <th>15970</th>\n",
       "      <td>41</td>\n",
       "      <td>LessThanHighSchool</td>\n",
       "      <td>NotBlack</td>\n",
       "      <td>NotHispanic</td>\n",
       "      <td>Married</td>\n",
       "      <td>1</td>\n",
       "      <td>20433.190</td>\n",
       "      <td>15625.940</td>\n",
       "      <td>15746.650</td>\n",
       "    </tr>\n",
       "    <tr>\n",
       "      <th>15981</th>\n",
       "      <td>22</td>\n",
       "      <td>Intermediate</td>\n",
       "      <td>NotBlack</td>\n",
       "      <td>hispanic</td>\n",
       "      <td>NotMarried</td>\n",
       "      <td>0</td>\n",
       "      <td>7684.244</td>\n",
       "      <td>5281.452</td>\n",
       "      <td>6014.347</td>\n",
       "    </tr>\n",
       "    <tr>\n",
       "      <th>15988</th>\n",
       "      <td>20</td>\n",
       "      <td>HighSchool</td>\n",
       "      <td>black</td>\n",
       "      <td>NotHispanic</td>\n",
       "      <td>Married</td>\n",
       "      <td>0</td>\n",
       "      <td>1445.939</td>\n",
       "      <td>11832.240</td>\n",
       "      <td>6895.072</td>\n",
       "    </tr>\n",
       "    <tr>\n",
       "      <th>15990</th>\n",
       "      <td>47</td>\n",
       "      <td>LessThanHighSchool</td>\n",
       "      <td>NotBlack</td>\n",
       "      <td>NotHispanic</td>\n",
       "      <td>Married</td>\n",
       "      <td>1</td>\n",
       "      <td>16914.350</td>\n",
       "      <td>11384.660</td>\n",
       "      <td>13671.930</td>\n",
       "    </tr>\n",
       "    <tr>\n",
       "      <th>15991</th>\n",
       "      <td>40</td>\n",
       "      <td>LessThanHighSchool</td>\n",
       "      <td>NotBlack</td>\n",
       "      <td>NotHispanic</td>\n",
       "      <td>NotMarried</td>\n",
       "      <td>1</td>\n",
       "      <td>13628.660</td>\n",
       "      <td>13144.550</td>\n",
       "      <td>7979.724</td>\n",
       "    </tr>\n",
       "  </tbody>\n",
       "</table>\n",
       "<p>5640 rows × 9 columns</p>\n",
       "</div>"
      ],
      "text/plain": [
       "       Age          Eduacation      Race         Hisp MaritalStatus  Nodeg  \\\n",
       "1       21        Intermediate  NotBlack  NotHispanic    NotMarried      0   \n",
       "4       18  LessThanHighSchool  NotBlack  NotHispanic       Married      1   \n",
       "6       48  LessThanHighSchool  NotBlack  NotHispanic       Married      1   \n",
       "7       18  LessThanHighSchool  NotBlack  NotHispanic    NotMarried      1   \n",
       "11      16  LessThanHighSchool  NotBlack  NotHispanic    NotMarried      1   \n",
       "...    ...                 ...       ...          ...           ...    ...   \n",
       "15970   41  LessThanHighSchool  NotBlack  NotHispanic       Married      1   \n",
       "15981   22        Intermediate  NotBlack     hispanic    NotMarried      0   \n",
       "15988   20          HighSchool     black  NotHispanic       Married      0   \n",
       "15990   47  LessThanHighSchool  NotBlack  NotHispanic       Married      1   \n",
       "15991   40  LessThanHighSchool  NotBlack  NotHispanic    NotMarried      1   \n",
       "\n",
       "       Earnings_1974  Earnings_1975  Earnings_1978  \n",
       "1           3175.971       5852.565      13496.080  \n",
       "4           1669.295      10727.610       9860.869  \n",
       "6          16804.630      16354.600      18059.300  \n",
       "7           1144.212       3620.032      15739.270  \n",
       "11          1026.656       1224.581       6847.785  \n",
       "...              ...            ...            ...  \n",
       "15970      20433.190      15625.940      15746.650  \n",
       "15981       7684.244       5281.452       6014.347  \n",
       "15988       1445.939      11832.240       6895.072  \n",
       "15990      16914.350      11384.660      13671.930  \n",
       "15991      13628.660      13144.550       7979.724  \n",
       "\n",
       "[5640 rows x 9 columns]"
      ]
     },
     "execution_count": 40,
     "metadata": {},
     "output_type": "execute_result"
    }
   ],
   "source": [
    "outl_78"
   ]
  },
  {
   "cell_type": "code",
   "execution_count": 41,
   "metadata": {},
   "outputs": [
    {
     "data": {
      "text/plain": [
       "<AxesSubplot:ylabel='Count'>"
      ]
     },
     "execution_count": 41,
     "metadata": {},
     "output_type": "execute_result"
    },
    {
     "data": {
      "image/png": "[encoded data removed]",
      "text/plain": [
       "<Figure size 432x288 with 1 Axes>"
      ]
     },
     "metadata": {
      "needs_background": "light"
     },
     "output_type": "display_data"
    }
   ],
   "source": [
    "# by filtering earning for less than 20000  and greater than 5000 for year 78.\n",
    "sns.histplot(outl_78)"
   ]
  },
  {
   "cell_type": "code",
   "execution_count": 42,
   "metadata": {},
   "outputs": [],
   "source": [
    "# above graph shows filtering the data gives no unsual peaks for earnings for year 78, therefore the outliers were present and were skewing the data"
   ]
  },
  {
   "cell_type": "code",
   "execution_count": 43,
   "metadata": {},
   "outputs": [
    {
     "data": {
      "image/png": "[encoded data removed]",
      "text/plain": [
       "<Figure size 1152x720 with 6 Axes>"
      ]
     },
     "metadata": {
      "needs_background": "light"
     },
     "output_type": "display_data"
    }
   ],
   "source": [
    "bigGraph(outl_78,\"Earnings_1978\",-4)"
   ]
  },
  {
   "cell_type": "markdown",
   "metadata": {},
   "source": [
    "##### Outlier Conclusions\n"
   ]
  },
  {
   "cell_type": "code",
   "execution_count": 44,
   "metadata": {},
   "outputs": [],
   "source": [
    "# above graph shows filtering the data gives normal curves, therefore the outliers were present and were affecting the data"
   ]
  }
 ],
 "metadata": {
  "kernelspec": {
   "display_name": "Python 3.9.12 ('base')",
   "language": "python",
   "name": "python3"
  },
  "language_info": {
   "codemirror_mode": {
    "name": "ipython",
    "version": 3
   },
   "file_extension": ".py",
   "mimetype": "text/x-python",
   "name": "python",
   "nbconvert_exporter": "python",
   "pygments_lexer": "ipython3",
   "version": "3.9.12"
  },
  "orig_nbformat": 4,
  "vscode": {
   "interpreter": {
    "hash": "ac84c186c3977d3f3331649749bf53276a5c5befb029be0bc359ac378ed9e33b"
   }
  }
 },
 "nbformat": 4,
 "nbformat_minor": 2
}
